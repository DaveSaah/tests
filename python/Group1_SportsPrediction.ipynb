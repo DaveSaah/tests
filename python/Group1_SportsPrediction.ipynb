{
 "cells": [
  {
   "cell_type": "markdown",
   "metadata": {},
   "source": [
    "## Import Modules"
   ]
  },
  {
   "cell_type": "code",
   "execution_count": 17,
   "metadata": {},
   "outputs": [],
   "source": [
    "# import modules\n",
    "import pandas as pd\n",
    "from sklearn.impute import SimpleImputer\n",
    "from sklearn.preprocessing import StandardScaler\n",
    "from sklearn.ensemble import RandomForestRegressor\n",
    "from sklearn.ensemble import AdaBoostRegressor\n",
    "from xgboost import XGBRegressor\n",
    "from sklearn.model_selection import KFold\n",
    "from sklearn.metrics import mean_squared_error,mean_absolute_error,r2_score, mean_absolute_percentage_error\n",
    "from sklearn.model_selection import GridSearchCV\n",
    "from sklearn.model_selection import train_test_split\n",
    "import pickle"
   ]
  },
  {
   "cell_type": "markdown",
   "metadata": {},
   "source": [
    "## Loading Data"
   ]
  },
  {
   "cell_type": "code",
   "execution_count": 29,
   "metadata": {},
   "outputs": [
    {
     "name": "stderr",
     "output_type": "stream",
     "text": [
      "/tmp/ipykernel_49279/2867731288.py:3: DtypeWarning: Columns (25,108) have mixed types. Specify dtype option on import or set low_memory=False.\n",
      "  new_testing_data = pd.read_csv('./players_22.csv')\n"
     ]
    }
   ],
   "source": [
    "# read data\n",
    "training_data = pd.read_csv('./players_21.csv')\n",
    "new_testing_data = pd.read_csv('./players_22.csv')"
   ]
  },
  {
   "cell_type": "markdown",
   "metadata": {},
   "source": [
    "## Data Preprocessing"
   ]
  },
  {
   "cell_type": "markdown",
   "metadata": {},
   "source": [
    "### Remove columns with na values that exceed 30%"
   ]
  },
  {
   "cell_type": "code",
   "execution_count": 19,
   "metadata": {},
   "outputs": [],
   "source": [
    "# Calculate the percentage of na values in each column\n",
    "na_percentages = training_data.isna().sum() / len(training_data) * 100\n",
    "\n",
    "# Select the columns where the percentage of na values exceeds 30%\n",
    "cols_to_drop = na_percentages[na_percentages > 30].index\n",
    "\n",
    "# Drop the selected columns\n",
    "training_data.drop(cols_to_drop, axis=1, inplace=True)\n",
    "new_testing_data.drop(cols_to_drop, axis=1, inplace=True)"
   ]
  },
  {
   "cell_type": "markdown",
   "metadata": {},
   "source": [
    "### Remove columns where the values do not obviously contribute a player's overall rating"
   ]
  },
  {
   "cell_type": "code",
   "execution_count": 20,
   "metadata": {},
   "outputs": [],
   "source": [
    "# urls do not help to predict a player's rating\n",
    "# remove columns that have 'url' in their name\n",
    "cols_to_drop = [col for col in training_data.columns if 'url' in col]\n",
    "training_data.drop(cols_to_drop, axis=1, inplace=True)\n",
    "new_testing_data.drop(cols_to_drop, axis=1, inplace=True)"
   ]
  },
  {
   "cell_type": "code",
   "execution_count": 21,
   "metadata": {},
   "outputs": [],
   "source": [
    "# columns that obviously do not contribute to a player's rating\n",
    "cols_to_drop = [\n",
    "    \"age\",\n",
    "    \"sofifa_id\",\n",
    "    \"short_name\",\n",
    "    \"long_name\",\n",
    "    \"real_face\",\n",
    "]\n",
    "\n",
    "# drop the columns\n",
    "training_data.drop(cols_to_drop, axis=1, inplace=True)\n",
    "new_testing_data.drop(cols_to_drop, axis=1, inplace=True)"
   ]
  },
  {
   "cell_type": "code",
   "execution_count": 22,
   "metadata": {},
   "outputs": [],
   "source": [
    "# columns where input would not be available at the time of prediction\n",
    "cols_to_drop = [\n",
    "    \"gk\", \"rb\", \"rcb\", \"cb\", \"lcb\", \"lb\", \"rwb\", \"rdm\", \"cdm\", \"ldm\", \"lwb\", \"rm\", \"rcm\", \"cm\", \"lcm\", \"lm\", \"ram\", \"cam\", \"lam\", \"rw\", \"rf\", \"cf\", \"lf\", \"lw\", \"rs\", \"st\", \"ls\", \"club_joined\", \"club_contract_valid_until\"\n",
    "]\n",
    "\n",
    "# drop the columns\n",
    "training_data.drop(cols_to_drop, axis=1, inplace=True)\n",
    "new_testing_data.drop(cols_to_drop, axis=1, inplace=True)"
   ]
  },
  {
   "cell_type": "code",
   "execution_count": 23,
   "metadata": {},
   "outputs": [],
   "source": [
    "# remove club, national and league info. They do not explicitly determine a player's rating\n",
    "cols_to_drop = [\n",
    "    \"club_name\", \"league_name\", \"league_level\", \"club_jersey_number\", \"nationality_id\", \"nationality_name\", \"value_eur\", \"release_clause_eur\", \"club_team_id\"\n",
    "]\n",
    "\n",
    "# drop the columns\n",
    "training_data.drop(cols_to_drop, axis=1, inplace=True)\n",
    "new_testing_data.drop(cols_to_drop, axis=1, inplace=True)"
   ]
  },
  {
   "cell_type": "markdown",
   "metadata": {},
   "source": [
    "#### Encoding data"
   ]
  },
  {
   "cell_type": "code",
   "execution_count": 11,
   "metadata": {},
   "outputs": [
    {
     "name": "stdout",
     "output_type": "stream",
     "text": [
      "<class 'pandas.core.frame.DataFrame'>\n",
      "RangeIndex: 18944 entries, 0 to 18943\n",
      "Data columns (total 54 columns):\n",
      " #   Column                       Non-Null Count  Dtype  \n",
      "---  ------                       --------------  -----  \n",
      " 0   player_positions             18944 non-null  object \n",
      " 1   overall                      18944 non-null  int64  \n",
      " 2   potential                    18944 non-null  int64  \n",
      " 3   wage_eur                     18719 non-null  float64\n",
      " 4   dob                          18944 non-null  object \n",
      " 5   height_cm                    18944 non-null  int64  \n",
      " 6   weight_kg                    18944 non-null  int64  \n",
      " 7   club_position                18719 non-null  object \n",
      " 8   preferred_foot               18944 non-null  object \n",
      " 9   weak_foot                    18944 non-null  int64  \n",
      " 10  skill_moves                  18944 non-null  int64  \n",
      " 11  international_reputation     18944 non-null  int64  \n",
      " 12  work_rate                    18944 non-null  object \n",
      " 13  body_type                    18944 non-null  object \n",
      " 14  pace                         16861 non-null  float64\n",
      " 15  shooting                     16861 non-null  float64\n",
      " 16  passing                      16861 non-null  float64\n",
      " 17  dribbling                    16861 non-null  float64\n",
      " 18  defending                    16861 non-null  float64\n",
      " 19  physic                       16861 non-null  float64\n",
      " 20  attacking_crossing           18944 non-null  int64  \n",
      " 21  attacking_finishing          18944 non-null  int64  \n",
      " 22  attacking_heading_accuracy   18944 non-null  int64  \n",
      " 23  attacking_short_passing      18944 non-null  int64  \n",
      " 24  attacking_volleys            18944 non-null  int64  \n",
      " 25  skill_dribbling              18944 non-null  int64  \n",
      " 26  skill_curve                  18944 non-null  int64  \n",
      " 27  skill_fk_accuracy            18944 non-null  int64  \n",
      " 28  skill_long_passing           18944 non-null  int64  \n",
      " 29  skill_ball_control           18944 non-null  int64  \n",
      " 30  movement_acceleration        18944 non-null  int64  \n",
      " 31  movement_sprint_speed        18944 non-null  int64  \n",
      " 32  movement_agility             18944 non-null  int64  \n",
      " 33  movement_reactions           18944 non-null  int64  \n",
      " 34  movement_balance             18944 non-null  int64  \n",
      " 35  power_shot_power             18944 non-null  int64  \n",
      " 36  power_jumping                18944 non-null  int64  \n",
      " 37  power_stamina                18944 non-null  int64  \n",
      " 38  power_strength               18944 non-null  int64  \n",
      " 39  power_long_shots             18944 non-null  int64  \n",
      " 40  mentality_aggression         18944 non-null  int64  \n",
      " 41  mentality_interceptions      18944 non-null  int64  \n",
      " 42  mentality_positioning        18944 non-null  int64  \n",
      " 43  mentality_vision             18944 non-null  int64  \n",
      " 44  mentality_penalties          18944 non-null  int64  \n",
      " 45  mentality_composure          18944 non-null  int64  \n",
      " 46  defending_marking_awareness  18944 non-null  int64  \n",
      " 47  defending_standing_tackle    18944 non-null  int64  \n",
      " 48  defending_sliding_tackle     18944 non-null  int64  \n",
      " 49  goalkeeping_diving           18944 non-null  int64  \n",
      " 50  goalkeeping_handling         18944 non-null  int64  \n",
      " 51  goalkeeping_kicking          18944 non-null  int64  \n",
      " 52  goalkeeping_positioning      18944 non-null  int64  \n",
      " 53  goalkeeping_reflexes         18944 non-null  int64  \n",
      "dtypes: float64(7), int64(41), object(6)\n",
      "memory usage: 7.8+ MB\n"
     ]
    }
   ],
   "source": [
    "training_data.info()"
   ]
  },
  {
   "cell_type": "code",
   "execution_count": 24,
   "metadata": {},
   "outputs": [],
   "source": [
    "# use pd.factorize to convert categorical columns to numerical\n",
    "# check if dtype is object\n",
    "\n",
    "# get categorical columns\n",
    "cat_cols = [col for col in training_data.columns if training_data[col].dtype == 'object']\n",
    "\n",
    "# factorize the categorical columns\n",
    "for col in cat_cols:\n",
    "    training_data[col], c1 = pd.factorize(training_data[col])\n",
    "    new_testing_data[col], c2 = pd.factorize(new_testing_data[col])"
   ]
  },
  {
   "cell_type": "code",
   "execution_count": 27,
   "metadata": {},
   "outputs": [],
   "source": [
    "s = '1990-10-03'\n",
    "a = pd.factorize(s)"
   ]
  },
  {
   "cell_type": "code",
   "execution_count": 33,
   "metadata": {},
   "outputs": [
    {
     "data": {
      "text/plain": [
       "6236"
      ]
     },
     "execution_count": 33,
     "metadata": {},
     "output_type": "execute_result"
    }
   ],
   "source": [
    "len(training_data['dob'].unique())"
   ]
  },
  {
   "cell_type": "markdown",
   "metadata": {},
   "source": [
    "#### Imputing Data"
   ]
  },
  {
   "cell_type": "code",
   "execution_count": 14,
   "metadata": {},
   "outputs": [],
   "source": [
    "imputer = SimpleImputer(strategy='most_frequent')\n",
    "training_data = pd.DataFrame(imputer.fit_transform(training_data), columns=training_data.columns)\n",
    "new_testing_data = pd.DataFrame(imputer.transform(new_testing_data), columns=new_testing_data.columns)"
   ]
  },
  {
   "cell_type": "code",
   "execution_count": 15,
   "metadata": {},
   "outputs": [
    {
     "name": "stdout",
     "output_type": "stream",
     "text": [
      "<class 'pandas.core.frame.DataFrame'>\n",
      "RangeIndex: 18944 entries, 0 to 18943\n",
      "Data columns (total 54 columns):\n",
      " #   Column                       Non-Null Count  Dtype  \n",
      "---  ------                       --------------  -----  \n",
      " 0   player_positions             18944 non-null  float64\n",
      " 1   overall                      18944 non-null  float64\n",
      " 2   potential                    18944 non-null  float64\n",
      " 3   wage_eur                     18944 non-null  float64\n",
      " 4   dob                          18944 non-null  float64\n",
      " 5   height_cm                    18944 non-null  float64\n",
      " 6   weight_kg                    18944 non-null  float64\n",
      " 7   club_position                18944 non-null  float64\n",
      " 8   preferred_foot               18944 non-null  float64\n",
      " 9   weak_foot                    18944 non-null  float64\n",
      " 10  skill_moves                  18944 non-null  float64\n",
      " 11  international_reputation     18944 non-null  float64\n",
      " 12  work_rate                    18944 non-null  float64\n",
      " 13  body_type                    18944 non-null  float64\n",
      " 14  pace                         18944 non-null  float64\n",
      " 15  shooting                     18944 non-null  float64\n",
      " 16  passing                      18944 non-null  float64\n",
      " 17  dribbling                    18944 non-null  float64\n",
      " 18  defending                    18944 non-null  float64\n",
      " 19  physic                       18944 non-null  float64\n",
      " 20  attacking_crossing           18944 non-null  float64\n",
      " 21  attacking_finishing          18944 non-null  float64\n",
      " 22  attacking_heading_accuracy   18944 non-null  float64\n",
      " 23  attacking_short_passing      18944 non-null  float64\n",
      " 24  attacking_volleys            18944 non-null  float64\n",
      " 25  skill_dribbling              18944 non-null  float64\n",
      " 26  skill_curve                  18944 non-null  float64\n",
      " 27  skill_fk_accuracy            18944 non-null  float64\n",
      " 28  skill_long_passing           18944 non-null  float64\n",
      " 29  skill_ball_control           18944 non-null  float64\n",
      " 30  movement_acceleration        18944 non-null  float64\n",
      " 31  movement_sprint_speed        18944 non-null  float64\n",
      " 32  movement_agility             18944 non-null  float64\n",
      " 33  movement_reactions           18944 non-null  float64\n",
      " 34  movement_balance             18944 non-null  float64\n",
      " 35  power_shot_power             18944 non-null  float64\n",
      " 36  power_jumping                18944 non-null  float64\n",
      " 37  power_stamina                18944 non-null  float64\n",
      " 38  power_strength               18944 non-null  float64\n",
      " 39  power_long_shots             18944 non-null  float64\n",
      " 40  mentality_aggression         18944 non-null  float64\n",
      " 41  mentality_interceptions      18944 non-null  float64\n",
      " 42  mentality_positioning        18944 non-null  float64\n",
      " 43  mentality_vision             18944 non-null  float64\n",
      " 44  mentality_penalties          18944 non-null  float64\n",
      " 45  mentality_composure          18944 non-null  float64\n",
      " 46  defending_marking_awareness  18944 non-null  float64\n",
      " 47  defending_standing_tackle    18944 non-null  float64\n",
      " 48  defending_sliding_tackle     18944 non-null  float64\n",
      " 49  goalkeeping_diving           18944 non-null  float64\n",
      " 50  goalkeeping_handling         18944 non-null  float64\n",
      " 51  goalkeeping_kicking          18944 non-null  float64\n",
      " 52  goalkeeping_positioning      18944 non-null  float64\n",
      " 53  goalkeeping_reflexes         18944 non-null  float64\n",
      "dtypes: float64(54)\n",
      "memory usage: 7.8 MB\n"
     ]
    }
   ],
   "source": [
    "training_data.info()"
   ]
  },
  {
   "cell_type": "markdown",
   "metadata": {},
   "source": [
    "### Setup training and testing data"
   ]
  },
  {
   "cell_type": "code",
   "execution_count": 16,
   "metadata": {},
   "outputs": [],
   "source": [
    "trainX = training_data.drop('overall', axis=1)\n",
    "trainY = training_data['overall']\n",
    "new_testX = new_testing_data.drop('overall', axis=1)\n",
    "new_testY = new_testing_data['overall']"
   ]
  },
  {
   "cell_type": "markdown",
   "metadata": {},
   "source": [
    "#### Scaling the independent variables"
   ]
  },
  {
   "cell_type": "code",
   "execution_count": 17,
   "metadata": {},
   "outputs": [],
   "source": [
    "scaler = StandardScaler()\n",
    "trainX = pd.DataFrame(scaler.fit_transform(trainX), columns=trainX.columns)\n",
    "new_testX = pd.DataFrame(scaler.transform(new_testX), columns=new_testX.columns)"
   ]
  },
  {
   "cell_type": "code",
   "execution_count": 18,
   "metadata": {},
   "outputs": [
    {
     "name": "stdout",
     "output_type": "stream",
     "text": [
      "<class 'pandas.core.frame.DataFrame'>\n",
      "RangeIndex: 18944 entries, 0 to 18943\n",
      "Data columns (total 53 columns):\n",
      " #   Column                       Non-Null Count  Dtype  \n",
      "---  ------                       --------------  -----  \n",
      " 0   player_positions             18944 non-null  float64\n",
      " 1   potential                    18944 non-null  float64\n",
      " 2   wage_eur                     18944 non-null  float64\n",
      " 3   dob                          18944 non-null  float64\n",
      " 4   height_cm                    18944 non-null  float64\n",
      " 5   weight_kg                    18944 non-null  float64\n",
      " 6   club_position                18944 non-null  float64\n",
      " 7   preferred_foot               18944 non-null  float64\n",
      " 8   weak_foot                    18944 non-null  float64\n",
      " 9   skill_moves                  18944 non-null  float64\n",
      " 10  international_reputation     18944 non-null  float64\n",
      " 11  work_rate                    18944 non-null  float64\n",
      " 12  body_type                    18944 non-null  float64\n",
      " 13  pace                         18944 non-null  float64\n",
      " 14  shooting                     18944 non-null  float64\n",
      " 15  passing                      18944 non-null  float64\n",
      " 16  dribbling                    18944 non-null  float64\n",
      " 17  defending                    18944 non-null  float64\n",
      " 18  physic                       18944 non-null  float64\n",
      " 19  attacking_crossing           18944 non-null  float64\n",
      " 20  attacking_finishing          18944 non-null  float64\n",
      " 21  attacking_heading_accuracy   18944 non-null  float64\n",
      " 22  attacking_short_passing      18944 non-null  float64\n",
      " 23  attacking_volleys            18944 non-null  float64\n",
      " 24  skill_dribbling              18944 non-null  float64\n",
      " 25  skill_curve                  18944 non-null  float64\n",
      " 26  skill_fk_accuracy            18944 non-null  float64\n",
      " 27  skill_long_passing           18944 non-null  float64\n",
      " 28  skill_ball_control           18944 non-null  float64\n",
      " 29  movement_acceleration        18944 non-null  float64\n",
      " 30  movement_sprint_speed        18944 non-null  float64\n",
      " 31  movement_agility             18944 non-null  float64\n",
      " 32  movement_reactions           18944 non-null  float64\n",
      " 33  movement_balance             18944 non-null  float64\n",
      " 34  power_shot_power             18944 non-null  float64\n",
      " 35  power_jumping                18944 non-null  float64\n",
      " 36  power_stamina                18944 non-null  float64\n",
      " 37  power_strength               18944 non-null  float64\n",
      " 38  power_long_shots             18944 non-null  float64\n",
      " 39  mentality_aggression         18944 non-null  float64\n",
      " 40  mentality_interceptions      18944 non-null  float64\n",
      " 41  mentality_positioning        18944 non-null  float64\n",
      " 42  mentality_vision             18944 non-null  float64\n",
      " 43  mentality_penalties          18944 non-null  float64\n",
      " 44  mentality_composure          18944 non-null  float64\n",
      " 45  defending_marking_awareness  18944 non-null  float64\n",
      " 46  defending_standing_tackle    18944 non-null  float64\n",
      " 47  defending_sliding_tackle     18944 non-null  float64\n",
      " 48  goalkeeping_diving           18944 non-null  float64\n",
      " 49  goalkeeping_handling         18944 non-null  float64\n",
      " 50  goalkeeping_kicking          18944 non-null  float64\n",
      " 51  goalkeeping_positioning      18944 non-null  float64\n",
      " 52  goalkeeping_reflexes         18944 non-null  float64\n",
      "dtypes: float64(53)\n",
      "memory usage: 7.7 MB\n"
     ]
    }
   ],
   "source": [
    "trainX.info()"
   ]
  },
  {
   "cell_type": "markdown",
   "metadata": {},
   "source": [
    "#### Create feature subsets that better correlate with the overall rating"
   ]
  },
  {
   "cell_type": "code",
   "execution_count": 19,
   "metadata": {},
   "outputs": [
    {
     "name": "stdout",
     "output_type": "stream",
     "text": [
      "['potential', 'wage_eur', 'dob', 'passing', 'dribbling', 'attacking_short_passing', 'movement_reactions', 'power_shot_power', 'mentality_vision', 'mentality_composure']\n",
      "10\n"
     ]
    }
   ],
   "source": [
    "# create feature subsets which show better correlation with the overall rating\n",
    "\n",
    "# create a list of all the columns with a correlation greater than 0.5\n",
    "feature_cols = list(trainX.corrwith(trainY)[abs(trainX.corrwith(trainY)) > 0.5].index)\n",
    "\n",
    "print(feature_cols)\n",
    "print(len(feature_cols))"
   ]
  },
  {
   "cell_type": "code",
   "execution_count": 20,
   "metadata": {},
   "outputs": [],
   "source": [
    "# set trainX and testX to the new feature subset\n",
    "trainX = trainX[feature_cols]\n",
    "new_testX = new_testX[feature_cols]"
   ]
  },
  {
   "cell_type": "code",
   "execution_count": 21,
   "metadata": {},
   "outputs": [
    {
     "name": "stdout",
     "output_type": "stream",
     "text": [
      "<class 'pandas.core.frame.DataFrame'>\n",
      "RangeIndex: 18944 entries, 0 to 18943\n",
      "Data columns (total 10 columns):\n",
      " #   Column                   Non-Null Count  Dtype  \n",
      "---  ------                   --------------  -----  \n",
      " 0   potential                18944 non-null  float64\n",
      " 1   wage_eur                 18944 non-null  float64\n",
      " 2   dob                      18944 non-null  float64\n",
      " 3   passing                  18944 non-null  float64\n",
      " 4   dribbling                18944 non-null  float64\n",
      " 5   attacking_short_passing  18944 non-null  float64\n",
      " 6   movement_reactions       18944 non-null  float64\n",
      " 7   power_shot_power         18944 non-null  float64\n",
      " 8   mentality_vision         18944 non-null  float64\n",
      " 9   mentality_composure      18944 non-null  float64\n",
      "dtypes: float64(10)\n",
      "memory usage: 1.4 MB\n"
     ]
    }
   ],
   "source": [
    "trainX.info()"
   ]
  },
  {
   "cell_type": "markdown",
   "metadata": {},
   "source": [
    "## Training & Evaluating Models"
   ]
  },
  {
   "cell_type": "code",
   "execution_count": 22,
   "metadata": {},
   "outputs": [],
   "source": [
    "X = trainX\n",
    "y = trainY\n",
    "\n",
    "X_train, X_test, y_train, y_test = train_test_split(X, y, test_size=0.2, random_state=42)"
   ]
  },
  {
   "cell_type": "markdown",
   "metadata": {},
   "source": [
    "### Cross validation with RandomForest"
   ]
  },
  {
   "cell_type": "code",
   "execution_count": 23,
   "metadata": {},
   "outputs": [
    {
     "data": {
      "text/plain": [
       "{'max_depth': 40, 'n_estimators': 1000}"
      ]
     },
     "execution_count": 23,
     "metadata": {},
     "output_type": "execute_result"
    }
   ],
   "source": [
    "# do cross validation training with either RandomForest, XGBoost, Gradient Boost Regressors that can predict a player rating.\n",
    "\n",
    "# RandomForestRegressor cross validation training\n",
    "cv = KFold(n_splits=3)\n",
    "\n",
    "# parameters for the RandomForestRegressor\n",
    "PARAMETERS = {\n",
    "    \"max_depth\": [12,35, 40],\n",
    "    \"n_estimators\": [100, 500, 1000]\n",
    "\n",
    "}\n",
    "\n",
    "rf = RandomForestRegressor()\n",
    "model_rf = GridSearchCV(rf, cv=cv, param_grid=PARAMETERS, scoring=\"neg_mean_squared_error\")\n",
    "model_rf.fit(X_train, y_train)\n",
    "model_rf.best_params_"
   ]
  },
  {
   "cell_type": "code",
   "execution_count": 41,
   "metadata": {},
   "outputs": [
    {
     "name": "stdout",
     "output_type": "stream",
     "text": [
      "Mean Absolute Error: 0.43383161784111907\n",
      "Mean Squared Error: 0.40552474689891804\n",
      "R-squared (R2) Score: 0.9913965212807883\n",
      "Mean Absolute Percentage Error: 0.0069205798726614046\n"
     ]
    }
   ],
   "source": [
    "\n",
    "y_pred = model_rf.predict(X_test)\n",
    "\n",
    "# Calculate Mean Absolute Error (MAE)\n",
    "mae = mean_absolute_error(y_test, y_pred)\n",
    "\n",
    "# Calculate Mean Squared Error (MSE)\n",
    "mse = mean_squared_error(y_test, y_pred)\n",
    "\n",
    "# Calculate R-squared (R2) score\n",
    "r2 = r2_score(y_test, y_pred)\n",
    "\n",
    "# Calculate Mean Absolute Percentage Error (MAPE)\n",
    "mape = mean_absolute_percentage_error(y_test, y_pred)\n",
    "\n",
    "print(f\"Mean Absolute Error: {mae}\")\n",
    "print(f\"Mean Squared Error: {mse}\")\n",
    "print(f\"R-squared (R2) Score: {r2}\")\n",
    "print(f\"Mean Absolute Percentage Error: {mape}\")"
   ]
  },
  {
   "cell_type": "markdown",
   "metadata": {},
   "source": [
    "#### Fine Tuning"
   ]
  },
  {
   "cell_type": "code",
   "execution_count": 33,
   "metadata": {},
   "outputs": [
    {
     "data": {
      "text/html": [
       "<style>#sk-container-id-2 {color: black;}#sk-container-id-2 pre{padding: 0;}#sk-container-id-2 div.sk-toggleable {background-color: white;}#sk-container-id-2 label.sk-toggleable__label {cursor: pointer;display: block;width: 100%;margin-bottom: 0;padding: 0.3em;box-sizing: border-box;text-align: center;}#sk-container-id-2 label.sk-toggleable__label-arrow:before {content: \"▸\";float: left;margin-right: 0.25em;color: #696969;}#sk-container-id-2 label.sk-toggleable__label-arrow:hover:before {color: black;}#sk-container-id-2 div.sk-estimator:hover label.sk-toggleable__label-arrow:before {color: black;}#sk-container-id-2 div.sk-toggleable__content {max-height: 0;max-width: 0;overflow: hidden;text-align: left;background-color: #f0f8ff;}#sk-container-id-2 div.sk-toggleable__content pre {margin: 0.2em;color: black;border-radius: 0.25em;background-color: #f0f8ff;}#sk-container-id-2 input.sk-toggleable__control:checked~div.sk-toggleable__content {max-height: 200px;max-width: 100%;overflow: auto;}#sk-container-id-2 input.sk-toggleable__control:checked~label.sk-toggleable__label-arrow:before {content: \"▾\";}#sk-container-id-2 div.sk-estimator input.sk-toggleable__control:checked~label.sk-toggleable__label {background-color: #d4ebff;}#sk-container-id-2 div.sk-label input.sk-toggleable__control:checked~label.sk-toggleable__label {background-color: #d4ebff;}#sk-container-id-2 input.sk-hidden--visually {border: 0;clip: rect(1px 1px 1px 1px);clip: rect(1px, 1px, 1px, 1px);height: 1px;margin: -1px;overflow: hidden;padding: 0;position: absolute;width: 1px;}#sk-container-id-2 div.sk-estimator {font-family: monospace;background-color: #f0f8ff;border: 1px dotted black;border-radius: 0.25em;box-sizing: border-box;margin-bottom: 0.5em;}#sk-container-id-2 div.sk-estimator:hover {background-color: #d4ebff;}#sk-container-id-2 div.sk-parallel-item::after {content: \"\";width: 100%;border-bottom: 1px solid gray;flex-grow: 1;}#sk-container-id-2 div.sk-label:hover label.sk-toggleable__label {background-color: #d4ebff;}#sk-container-id-2 div.sk-serial::before {content: \"\";position: absolute;border-left: 1px solid gray;box-sizing: border-box;top: 0;bottom: 0;left: 50%;z-index: 0;}#sk-container-id-2 div.sk-serial {display: flex;flex-direction: column;align-items: center;background-color: white;padding-right: 0.2em;padding-left: 0.2em;position: relative;}#sk-container-id-2 div.sk-item {position: relative;z-index: 1;}#sk-container-id-2 div.sk-parallel {display: flex;align-items: stretch;justify-content: center;background-color: white;position: relative;}#sk-container-id-2 div.sk-item::before, #sk-container-id-2 div.sk-parallel-item::before {content: \"\";position: absolute;border-left: 1px solid gray;box-sizing: border-box;top: 0;bottom: 0;left: 50%;z-index: -1;}#sk-container-id-2 div.sk-parallel-item {display: flex;flex-direction: column;z-index: 1;position: relative;background-color: white;}#sk-container-id-2 div.sk-parallel-item:first-child::after {align-self: flex-end;width: 50%;}#sk-container-id-2 div.sk-parallel-item:last-child::after {align-self: flex-start;width: 50%;}#sk-container-id-2 div.sk-parallel-item:only-child::after {width: 0;}#sk-container-id-2 div.sk-dashed-wrapped {border: 1px dashed gray;margin: 0 0.4em 0.5em 0.4em;box-sizing: border-box;padding-bottom: 0.4em;background-color: white;}#sk-container-id-2 div.sk-label label {font-family: monospace;font-weight: bold;display: inline-block;line-height: 1.2em;}#sk-container-id-2 div.sk-label-container {text-align: center;}#sk-container-id-2 div.sk-container {/* jupyter's `normalize.less` sets `[hidden] { display: none; }` but bootstrap.min.css set `[hidden] { display: none !important; }` so we also need the `!important` here to be able to override the default hidden behavior on the sphinx rendered scikit-learn.org. See: https://github.com/scikit-learn/scikit-learn/issues/21755 */display: inline-block !important;position: relative;}#sk-container-id-2 div.sk-text-repr-fallback {display: none;}</style><div id=\"sk-container-id-2\" class=\"sk-top-container\"><div class=\"sk-text-repr-fallback\"><pre>RandomForestRegressor(max_depth=40, n_estimators=1000)</pre><b>In a Jupyter environment, please rerun this cell to show the HTML representation or trust the notebook. <br />On GitHub, the HTML representation is unable to render, please try loading this page with nbviewer.org.</b></div><div class=\"sk-container\" hidden><div class=\"sk-item\"><div class=\"sk-estimator sk-toggleable\"><input class=\"sk-toggleable__control sk-hidden--visually\" id=\"sk-estimator-id-2\" type=\"checkbox\" checked><label for=\"sk-estimator-id-2\" class=\"sk-toggleable__label sk-toggleable__label-arrow\">RandomForestRegressor</label><div class=\"sk-toggleable__content\"><pre>RandomForestRegressor(max_depth=40, n_estimators=1000)</pre></div></div></div></div></div>"
      ],
      "text/plain": [
       "RandomForestRegressor(max_depth=40, n_estimators=1000)"
      ]
     },
     "execution_count": 33,
     "metadata": {},
     "output_type": "execute_result"
    }
   ],
   "source": [
    "model_rf = RandomForestRegressor(max_depth=40, n_estimators=1000)\n",
    "model_rf.fit(trainX, trainY)"
   ]
  },
  {
   "cell_type": "markdown",
   "metadata": {},
   "source": [
    "### Cross validation with XGBoost"
   ]
  },
  {
   "cell_type": "code",
   "execution_count": 26,
   "metadata": {},
   "outputs": [
    {
     "data": {
      "text/plain": [
       "{'learning_rate': 0.03, 'max_depth': 12, 'n_estimators': 500}"
      ]
     },
     "execution_count": 26,
     "metadata": {},
     "output_type": "execute_result"
    }
   ],
   "source": [
    "cv = KFold(n_splits=3)\n",
    "\n",
    "# parameters for the XGBRegressor\n",
    "PARAMETERS = {\n",
    "    \"max_depth\": [12,35, 40],\n",
    "    \"learning_rate\":[0.3, 0.1, 0.03],\n",
    "    \"n_estimators\": [100, 500, 1000]\n",
    "}\n",
    "\n",
    "model_xgb = XGBRegressor()\n",
    "model_xgb_gs = GridSearchCV(model_xgb, cv=cv, param_grid=PARAMETERS, scoring=\"neg_mean_absolute_error\")\n",
    "model_xgb_gs.fit(X_train, y_train)\n",
    "model_xgb_gs.best_params_"
   ]
  },
  {
   "cell_type": "code",
   "execution_count": 42,
   "metadata": {},
   "outputs": [
    {
     "name": "stdout",
     "output_type": "stream",
     "text": [
      "Mean Absolute Error: 1.1517305804544844\n",
      "Mean Squared Error: 2.8159586901132974\n",
      "R-squared (R2) Score: 0.9402575530844043\n",
      "Mean Absolute Percentage Error: 0.01838431908371624\n"
     ]
    }
   ],
   "source": [
    "y_pred = model_xgb_gs.predict(X_test)\n",
    "\n",
    "# Calculate Mean Absolute Error (MAE)\n",
    "mae = mean_absolute_error(y_test, y_pred)\n",
    "\n",
    "# Calculate Mean Squared Error (MSE)\n",
    "mse = mean_squared_error(y_test, y_pred)\n",
    "\n",
    "# Calculate R-squared (R2) score\n",
    "r2 = r2_score(y_test, y_pred)\n",
    "\n",
    "# Calculate Mean Absolute Percentage Error (MAPE)\n",
    "mape = mean_absolute_percentage_error(y_test, y_pred)\n",
    "\n",
    "print(f\"Mean Absolute Error: {mae}\")\n",
    "print(f\"Mean Squared Error: {mse}\")\n",
    "print(f\"R-squared (R2) Score: {r2}\")\n",
    "print(f\"Mean Absolute Percentage Error: {mape}\")"
   ]
  },
  {
   "cell_type": "markdown",
   "metadata": {},
   "source": [
    "#### Fine Tuning"
   ]
  },
  {
   "cell_type": "code",
   "execution_count": 40,
   "metadata": {},
   "outputs": [
    {
     "data": {
      "text/html": [
       "<style>#sk-container-id-3 {color: black;}#sk-container-id-3 pre{padding: 0;}#sk-container-id-3 div.sk-toggleable {background-color: white;}#sk-container-id-3 label.sk-toggleable__label {cursor: pointer;display: block;width: 100%;margin-bottom: 0;padding: 0.3em;box-sizing: border-box;text-align: center;}#sk-container-id-3 label.sk-toggleable__label-arrow:before {content: \"▸\";float: left;margin-right: 0.25em;color: #696969;}#sk-container-id-3 label.sk-toggleable__label-arrow:hover:before {color: black;}#sk-container-id-3 div.sk-estimator:hover label.sk-toggleable__label-arrow:before {color: black;}#sk-container-id-3 div.sk-toggleable__content {max-height: 0;max-width: 0;overflow: hidden;text-align: left;background-color: #f0f8ff;}#sk-container-id-3 div.sk-toggleable__content pre {margin: 0.2em;color: black;border-radius: 0.25em;background-color: #f0f8ff;}#sk-container-id-3 input.sk-toggleable__control:checked~div.sk-toggleable__content {max-height: 200px;max-width: 100%;overflow: auto;}#sk-container-id-3 input.sk-toggleable__control:checked~label.sk-toggleable__label-arrow:before {content: \"▾\";}#sk-container-id-3 div.sk-estimator input.sk-toggleable__control:checked~label.sk-toggleable__label {background-color: #d4ebff;}#sk-container-id-3 div.sk-label input.sk-toggleable__control:checked~label.sk-toggleable__label {background-color: #d4ebff;}#sk-container-id-3 input.sk-hidden--visually {border: 0;clip: rect(1px 1px 1px 1px);clip: rect(1px, 1px, 1px, 1px);height: 1px;margin: -1px;overflow: hidden;padding: 0;position: absolute;width: 1px;}#sk-container-id-3 div.sk-estimator {font-family: monospace;background-color: #f0f8ff;border: 1px dotted black;border-radius: 0.25em;box-sizing: border-box;margin-bottom: 0.5em;}#sk-container-id-3 div.sk-estimator:hover {background-color: #d4ebff;}#sk-container-id-3 div.sk-parallel-item::after {content: \"\";width: 100%;border-bottom: 1px solid gray;flex-grow: 1;}#sk-container-id-3 div.sk-label:hover label.sk-toggleable__label {background-color: #d4ebff;}#sk-container-id-3 div.sk-serial::before {content: \"\";position: absolute;border-left: 1px solid gray;box-sizing: border-box;top: 0;bottom: 0;left: 50%;z-index: 0;}#sk-container-id-3 div.sk-serial {display: flex;flex-direction: column;align-items: center;background-color: white;padding-right: 0.2em;padding-left: 0.2em;position: relative;}#sk-container-id-3 div.sk-item {position: relative;z-index: 1;}#sk-container-id-3 div.sk-parallel {display: flex;align-items: stretch;justify-content: center;background-color: white;position: relative;}#sk-container-id-3 div.sk-item::before, #sk-container-id-3 div.sk-parallel-item::before {content: \"\";position: absolute;border-left: 1px solid gray;box-sizing: border-box;top: 0;bottom: 0;left: 50%;z-index: -1;}#sk-container-id-3 div.sk-parallel-item {display: flex;flex-direction: column;z-index: 1;position: relative;background-color: white;}#sk-container-id-3 div.sk-parallel-item:first-child::after {align-self: flex-end;width: 50%;}#sk-container-id-3 div.sk-parallel-item:last-child::after {align-self: flex-start;width: 50%;}#sk-container-id-3 div.sk-parallel-item:only-child::after {width: 0;}#sk-container-id-3 div.sk-dashed-wrapped {border: 1px dashed gray;margin: 0 0.4em 0.5em 0.4em;box-sizing: border-box;padding-bottom: 0.4em;background-color: white;}#sk-container-id-3 div.sk-label label {font-family: monospace;font-weight: bold;display: inline-block;line-height: 1.2em;}#sk-container-id-3 div.sk-label-container {text-align: center;}#sk-container-id-3 div.sk-container {/* jupyter's `normalize.less` sets `[hidden] { display: none; }` but bootstrap.min.css set `[hidden] { display: none !important; }` so we also need the `!important` here to be able to override the default hidden behavior on the sphinx rendered scikit-learn.org. See: https://github.com/scikit-learn/scikit-learn/issues/21755 */display: inline-block !important;position: relative;}#sk-container-id-3 div.sk-text-repr-fallback {display: none;}</style><div id=\"sk-container-id-3\" class=\"sk-top-container\"><div class=\"sk-text-repr-fallback\"><pre>XGBRegressor(base_score=None, booster=None, callbacks=None,\n",
       "             colsample_bylevel=None, colsample_bynode=None,\n",
       "             colsample_bytree=None, device=None, early_stopping_rounds=None,\n",
       "             enable_categorical=False, eval_metric=None, feature_types=None,\n",
       "             gamma=None, grow_policy=None, importance_type=None,\n",
       "             interaction_constraints=None, learning_rate=0.03, max_bin=None,\n",
       "             max_cat_threshold=None, max_cat_to_onehot=None,\n",
       "             max_delta_step=None, max_depth=12, max_leaves=None,\n",
       "             min_child_weight=None, missing=nan, monotone_constraints=None,\n",
       "             multi_strategy=None, n_estimators=500, n_jobs=None,\n",
       "             num_parallel_tree=None, random_state=None, ...)</pre><b>In a Jupyter environment, please rerun this cell to show the HTML representation or trust the notebook. <br />On GitHub, the HTML representation is unable to render, please try loading this page with nbviewer.org.</b></div><div class=\"sk-container\" hidden><div class=\"sk-item\"><div class=\"sk-estimator sk-toggleable\"><input class=\"sk-toggleable__control sk-hidden--visually\" id=\"sk-estimator-id-3\" type=\"checkbox\" checked><label for=\"sk-estimator-id-3\" class=\"sk-toggleable__label sk-toggleable__label-arrow\">XGBRegressor</label><div class=\"sk-toggleable__content\"><pre>XGBRegressor(base_score=None, booster=None, callbacks=None,\n",
       "             colsample_bylevel=None, colsample_bynode=None,\n",
       "             colsample_bytree=None, device=None, early_stopping_rounds=None,\n",
       "             enable_categorical=False, eval_metric=None, feature_types=None,\n",
       "             gamma=None, grow_policy=None, importance_type=None,\n",
       "             interaction_constraints=None, learning_rate=0.03, max_bin=None,\n",
       "             max_cat_threshold=None, max_cat_to_onehot=None,\n",
       "             max_delta_step=None, max_depth=12, max_leaves=None,\n",
       "             min_child_weight=None, missing=nan, monotone_constraints=None,\n",
       "             multi_strategy=None, n_estimators=500, n_jobs=None,\n",
       "             num_parallel_tree=None, random_state=None, ...)</pre></div></div></div></div></div>"
      ],
      "text/plain": [
       "XGBRegressor(base_score=None, booster=None, callbacks=None,\n",
       "             colsample_bylevel=None, colsample_bynode=None,\n",
       "             colsample_bytree=None, device=None, early_stopping_rounds=None,\n",
       "             enable_categorical=False, eval_metric=None, feature_types=None,\n",
       "             gamma=None, grow_policy=None, importance_type=None,\n",
       "             interaction_constraints=None, learning_rate=0.03, max_bin=None,\n",
       "             max_cat_threshold=None, max_cat_to_onehot=None,\n",
       "             max_delta_step=None, max_depth=12, max_leaves=None,\n",
       "             min_child_weight=None, missing=nan, monotone_constraints=None,\n",
       "             multi_strategy=None, n_estimators=500, n_jobs=None,\n",
       "             num_parallel_tree=None, random_state=None, ...)"
      ]
     },
     "execution_count": 40,
     "metadata": {},
     "output_type": "execute_result"
    }
   ],
   "source": [
    "model_xgb = XGBRegressor(learning_rate=0.03, max_depth=12, n_estimators=500)\n",
    "model_xgb.fit(trainX, trainY)"
   ]
  },
  {
   "cell_type": "markdown",
   "metadata": {},
   "source": [
    "Cross validation with AdaBoost"
   ]
  },
  {
   "cell_type": "code",
   "execution_count": 28,
   "metadata": {},
   "outputs": [
    {
     "data": {
      "text/plain": [
       "{'learning_rate': 0.03, 'n_estimators': 500, 'random_state': 12}"
      ]
     },
     "execution_count": 28,
     "metadata": {},
     "output_type": "execute_result"
    }
   ],
   "source": [
    "cv = KFold(n_splits=4)\n",
    "\n",
    "PARAMETERS ={\n",
    "    \"random_state\":[12,25, 36, 48],\n",
    "    # \"min_child_weight\":[1,5,15],\n",
    "    \"learning_rate\":[0.003, 0.1, 0.03],\n",
    "    \"n_estimators\":[100,500,1000]\n",
    "}\n",
    "\n",
    "ada = AdaBoostRegressor()\n",
    "model_ada = GridSearchCV(ada,param_grid=PARAMETERS,cv=cv,scoring=\"neg_mean_absolute_error\")\n",
    "model_ada.fit(X_train, y_train)\n",
    "model_ada.best_params_"
   ]
  },
  {
   "cell_type": "code",
   "execution_count": 43,
   "metadata": {},
   "outputs": [
    {
     "name": "stdout",
     "output_type": "stream",
     "text": [
      "Mean Absolute Error: 1.9649319921852926\n",
      "Mean Squared Error: 6.264610087853353\n",
      "R-squared (R2) Score: 0.8670921072334956\n",
      "Mean Absolute Percentage Error: 0.030629600797093353\n"
     ]
    }
   ],
   "source": [
    "y_pred = model_ada.predict(X_test)\n",
    "\n",
    "# Calculate Mean Absolute Error (MAE)\n",
    "mae = mean_absolute_error(y_test, y_pred)\n",
    "\n",
    "# Calculate Mean Squared Error (MSE)\n",
    "mse = mean_squared_error(y_test, y_pred)\n",
    "\n",
    "# Calculate R-squared (R2) score\n",
    "r2 = r2_score(y_test, y_pred)\n",
    "\n",
    "# Calculate Mean Absolute Percentage Error (MAPE)\n",
    "mape = mean_absolute_percentage_error(y_test, y_pred)\n",
    "\n",
    "print(f\"Mean Absolute Error: {mae}\")\n",
    "print(f\"Mean Squared Error: {mse}\")\n",
    "print(f\"R-squared (R2) Score: {r2}\")\n",
    "print(f\"Mean Absolute Percentage Error: {mape}\")"
   ]
  },
  {
   "cell_type": "markdown",
   "metadata": {},
   "source": [
    "#### Fine Tuning"
   ]
  },
  {
   "cell_type": "code",
   "execution_count": 44,
   "metadata": {},
   "outputs": [
    {
     "data": {
      "text/html": [
       "<style>#sk-container-id-4 {color: black;}#sk-container-id-4 pre{padding: 0;}#sk-container-id-4 div.sk-toggleable {background-color: white;}#sk-container-id-4 label.sk-toggleable__label {cursor: pointer;display: block;width: 100%;margin-bottom: 0;padding: 0.3em;box-sizing: border-box;text-align: center;}#sk-container-id-4 label.sk-toggleable__label-arrow:before {content: \"▸\";float: left;margin-right: 0.25em;color: #696969;}#sk-container-id-4 label.sk-toggleable__label-arrow:hover:before {color: black;}#sk-container-id-4 div.sk-estimator:hover label.sk-toggleable__label-arrow:before {color: black;}#sk-container-id-4 div.sk-toggleable__content {max-height: 0;max-width: 0;overflow: hidden;text-align: left;background-color: #f0f8ff;}#sk-container-id-4 div.sk-toggleable__content pre {margin: 0.2em;color: black;border-radius: 0.25em;background-color: #f0f8ff;}#sk-container-id-4 input.sk-toggleable__control:checked~div.sk-toggleable__content {max-height: 200px;max-width: 100%;overflow: auto;}#sk-container-id-4 input.sk-toggleable__control:checked~label.sk-toggleable__label-arrow:before {content: \"▾\";}#sk-container-id-4 div.sk-estimator input.sk-toggleable__control:checked~label.sk-toggleable__label {background-color: #d4ebff;}#sk-container-id-4 div.sk-label input.sk-toggleable__control:checked~label.sk-toggleable__label {background-color: #d4ebff;}#sk-container-id-4 input.sk-hidden--visually {border: 0;clip: rect(1px 1px 1px 1px);clip: rect(1px, 1px, 1px, 1px);height: 1px;margin: -1px;overflow: hidden;padding: 0;position: absolute;width: 1px;}#sk-container-id-4 div.sk-estimator {font-family: monospace;background-color: #f0f8ff;border: 1px dotted black;border-radius: 0.25em;box-sizing: border-box;margin-bottom: 0.5em;}#sk-container-id-4 div.sk-estimator:hover {background-color: #d4ebff;}#sk-container-id-4 div.sk-parallel-item::after {content: \"\";width: 100%;border-bottom: 1px solid gray;flex-grow: 1;}#sk-container-id-4 div.sk-label:hover label.sk-toggleable__label {background-color: #d4ebff;}#sk-container-id-4 div.sk-serial::before {content: \"\";position: absolute;border-left: 1px solid gray;box-sizing: border-box;top: 0;bottom: 0;left: 50%;z-index: 0;}#sk-container-id-4 div.sk-serial {display: flex;flex-direction: column;align-items: center;background-color: white;padding-right: 0.2em;padding-left: 0.2em;position: relative;}#sk-container-id-4 div.sk-item {position: relative;z-index: 1;}#sk-container-id-4 div.sk-parallel {display: flex;align-items: stretch;justify-content: center;background-color: white;position: relative;}#sk-container-id-4 div.sk-item::before, #sk-container-id-4 div.sk-parallel-item::before {content: \"\";position: absolute;border-left: 1px solid gray;box-sizing: border-box;top: 0;bottom: 0;left: 50%;z-index: -1;}#sk-container-id-4 div.sk-parallel-item {display: flex;flex-direction: column;z-index: 1;position: relative;background-color: white;}#sk-container-id-4 div.sk-parallel-item:first-child::after {align-self: flex-end;width: 50%;}#sk-container-id-4 div.sk-parallel-item:last-child::after {align-self: flex-start;width: 50%;}#sk-container-id-4 div.sk-parallel-item:only-child::after {width: 0;}#sk-container-id-4 div.sk-dashed-wrapped {border: 1px dashed gray;margin: 0 0.4em 0.5em 0.4em;box-sizing: border-box;padding-bottom: 0.4em;background-color: white;}#sk-container-id-4 div.sk-label label {font-family: monospace;font-weight: bold;display: inline-block;line-height: 1.2em;}#sk-container-id-4 div.sk-label-container {text-align: center;}#sk-container-id-4 div.sk-container {/* jupyter's `normalize.less` sets `[hidden] { display: none; }` but bootstrap.min.css set `[hidden] { display: none !important; }` so we also need the `!important` here to be able to override the default hidden behavior on the sphinx rendered scikit-learn.org. See: https://github.com/scikit-learn/scikit-learn/issues/21755 */display: inline-block !important;position: relative;}#sk-container-id-4 div.sk-text-repr-fallback {display: none;}</style><div id=\"sk-container-id-4\" class=\"sk-top-container\"><div class=\"sk-text-repr-fallback\"><pre>AdaBoostRegressor(learning_rate=0.03, n_estimators=500, random_state=12)</pre><b>In a Jupyter environment, please rerun this cell to show the HTML representation or trust the notebook. <br />On GitHub, the HTML representation is unable to render, please try loading this page with nbviewer.org.</b></div><div class=\"sk-container\" hidden><div class=\"sk-item\"><div class=\"sk-estimator sk-toggleable\"><input class=\"sk-toggleable__control sk-hidden--visually\" id=\"sk-estimator-id-4\" type=\"checkbox\" checked><label for=\"sk-estimator-id-4\" class=\"sk-toggleable__label sk-toggleable__label-arrow\">AdaBoostRegressor</label><div class=\"sk-toggleable__content\"><pre>AdaBoostRegressor(learning_rate=0.03, n_estimators=500, random_state=12)</pre></div></div></div></div></div>"
      ],
      "text/plain": [
       "AdaBoostRegressor(learning_rate=0.03, n_estimators=500, random_state=12)"
      ]
     },
     "execution_count": 44,
     "metadata": {},
     "output_type": "execute_result"
    }
   ],
   "source": [
    "model_ada = AdaBoostRegressor(random_state=12, learning_rate=0.03, n_estimators=500)\n",
    "model_ada.fit(X_train, y_train)"
   ]
  },
  {
   "cell_type": "markdown",
   "metadata": {},
   "source": [
    "## Testing with new dataset"
   ]
  },
  {
   "cell_type": "markdown",
   "metadata": {},
   "source": [
    "Random Forest"
   ]
  },
  {
   "cell_type": "code",
   "execution_count": 45,
   "metadata": {},
   "outputs": [
    {
     "name": "stdout",
     "output_type": "stream",
     "text": [
      "Mean Absolute Error: 1.1732340038463538\n",
      "Mean Squared Error: 2.8538638849732316\n",
      "R-squared (R2) Score: 0.9397093832592885\n",
      "Mean Absolute Percentage Error: 0.01878310210830471\n"
     ]
    }
   ],
   "source": [
    "y_pred = model_rf.predict(new_testX)\n",
    "\n",
    "# Calculate Mean Absolute Error (MAE)\n",
    "mae = mean_absolute_error(new_testY, y_pred)\n",
    "\n",
    "# Calculate Mean Squared Error (MSE)\n",
    "mse = mean_squared_error(new_testY, y_pred)\n",
    "\n",
    "# Calculate R-squared (R2) score\n",
    "r2 = r2_score(new_testY, y_pred)\n",
    "\n",
    "# Calculate Mean Absolute Percentage Error (MAPE)\n",
    "mape = mean_absolute_percentage_error(new_testY, y_pred)\n",
    "\n",
    "print(f\"Mean Absolute Error: {mae}\")\n",
    "print(f\"Mean Squared Error: {mse}\")\n",
    "print(f\"R-squared (R2) Score: {r2}\")\n",
    "print(f\"Mean Absolute Percentage Error: {mape}\")"
   ]
  },
  {
   "cell_type": "markdown",
   "metadata": {},
   "source": [
    "XGBoost"
   ]
  },
  {
   "cell_type": "code",
   "execution_count": 48,
   "metadata": {},
   "outputs": [
    {
     "name": "stdout",
     "output_type": "stream",
     "text": [
      "Mean Absolute Error: 1.1147786553904002\n",
      "Mean Squared Error: 2.6202423374166304\n",
      "R-squared (R2) Score: 0.9446448629295948\n",
      "Mean Absolute Percentage Error: 0.017844059405153778\n"
     ]
    }
   ],
   "source": [
    "y_pred = model_xgb.predict(new_testX)\n",
    "\n",
    "# Calculate Mean Absolute Error (MAE)\n",
    "mae = mean_absolute_error(new_testY, y_pred)\n",
    "\n",
    "# Calculate Mean Squared Error (MSE)\n",
    "mse = mean_squared_error(new_testY, y_pred)\n",
    "\n",
    "# Calculate R-squared (R2) score\n",
    "r2 = r2_score(new_testY, y_pred)\n",
    "\n",
    "# Calculate Mean Absolute Percentage Error (MAPE)\n",
    "mape = mean_absolute_percentage_error(new_testY, y_pred)\n",
    "\n",
    "print(f\"Mean Absolute Error: {mae}\")\n",
    "print(f\"Mean Squared Error: {mse}\")\n",
    "print(f\"R-squared (R2) Score: {r2}\")\n",
    "print(f\"Mean Absolute Percentage Error: {mape}\")"
   ]
  },
  {
   "cell_type": "markdown",
   "metadata": {},
   "source": [
    "AdaBoost"
   ]
  },
  {
   "cell_type": "code",
   "execution_count": 47,
   "metadata": {},
   "outputs": [
    {
     "name": "stdout",
     "output_type": "stream",
     "text": [
      "Mean Absolute Error: 1.9861459022186907\n",
      "Mean Squared Error: 6.314396268398642\n",
      "R-squared (R2) Score: 0.8666023115637933\n",
      "Mean Absolute Percentage Error: 0.03091573797364007\n"
     ]
    }
   ],
   "source": [
    "y_pred = model_ada.predict(new_testX)\n",
    "\n",
    "# Calculate Mean Absolute Error (MAE)\n",
    "mae = mean_absolute_error(new_testY, y_pred)\n",
    "\n",
    "# Calculate Mean Squared Error (MSE)\n",
    "mse = mean_squared_error(new_testY, y_pred)\n",
    "\n",
    "# Calculate R-squared (R2) score\n",
    "r2 = r2_score(new_testY, y_pred)\n",
    "\n",
    "# Calculate Mean Absolute Percentage Error (MAPE)\n",
    "mape = mean_absolute_percentage_error(new_testY, y_pred)\n",
    "\n",
    "print(f\"Mean Absolute Error: {mae}\")\n",
    "print(f\"Mean Squared Error: {mse}\")\n",
    "print(f\"R-squared (R2) Score: {r2}\")\n",
    "print(f\"Mean Absolute Percentage Error: {mape}\")"
   ]
  },
  {
   "cell_type": "markdown",
   "metadata": {},
   "source": [
    "## Save model"
   ]
  },
  {
   "cell_type": "code",
   "execution_count": 49,
   "metadata": {},
   "outputs": [],
   "source": [
    "# save the best model\n",
    "pickle.dump(model_xgb, open('../models/model_xgb.pkl', 'wb'))"
   ]
  },
  {
   "cell_type": "markdown",
   "metadata": {},
   "source": [
    "Best model is XGBoost."
   ]
  }
 ],
 "metadata": {
  "kernelspec": {
   "display_name": "Python 3 (ipykernel)",
   "language": "python",
   "name": "python3"
  },
  "language_info": {
   "codemirror_mode": {
    "name": "ipython",
    "version": 3
   },
   "file_extension": ".py",
   "mimetype": "text/x-python",
   "name": "python",
   "nbconvert_exporter": "python",
   "pygments_lexer": "ipython3",
   "version": "3.11.6"
  }
 },
 "nbformat": 4,
 "nbformat_minor": 2
}
